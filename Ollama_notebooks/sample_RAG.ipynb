{
 "cells": [
  {
   "cell_type": "markdown",
   "id": "0ae5eda9-d1e7-4bd4-90c3-bef099c20d65",
   "metadata": {},
   "source": [
    "# RAG(Retrieval-Augmented Generation)"
   ]
  },
  {
   "cell_type": "code",
   "execution_count": 1,
   "id": "197e38ce-479d-4d1f-9d40-b9a5d990309d",
   "metadata": {},
   "outputs": [],
   "source": [
    "import ollama\n",
    "import chromadb"
   ]
  },
  {
   "cell_type": "code",
   "execution_count": 2,
   "id": "806f0a60-3118-4c91-8d02-146353d1b565",
   "metadata": {},
   "outputs": [
    {
     "name": "stdout",
     "output_type": "stream",
     "text": [
      "['烏: 常に正しい答えを返す', '鶏: 正確でない答えを返す']\n"
     ]
    }
   ],
   "source": [
    "# 文書のリスト\n",
    "documents = [\n",
    "\t\"烏: 常に正しい答えを返す\",\n",
    "\t\"鶏: 正確でない答えを返す\",\n",
    "]\n",
    "\n",
    "print(documents)"
   ]
  },
  {
   "cell_type": "code",
   "execution_count": 3,
   "id": "6387bfd9-5577-4144-a942-090852e40dbd",
   "metadata": {},
   "outputs": [
    {
     "name": "stdout",
     "output_type": "stream",
     "text": [
      "['id.1', 'id.2']\n",
      "['烏: 常に正しい答えを返す', '鶏: 正確でない答えを返す']\n"
     ]
    }
   ],
   "source": [
    "# Chromadbクライアントを作成\n",
    "client = chromadb.Client()\n",
    "\n",
    "# \"docs\"という名前のコレクションを作成\n",
    "collection = client.get_or_create_collection(name=\"docs\")\n",
    "\n",
    "# 各文書をベクトル化したのちにChromaDBに保存\n",
    "for i, d in enumerate(documents):\n",
    "    # 文書のベクトル表現を生成\n",
    "    response = ollama.embeddings(model=\"mxbai-embed-large\", prompt=d)\n",
    "    embedding = response[\"embedding\"]\n",
    "    \n",
    "    # 文書をChromaDBに追加\n",
    "    collection.upsert(\n",
    "        ids=[\"id.\"+str(i+1)],\n",
    "        embeddings=[embedding],\n",
    "        documents=[d]\n",
    "    )\n",
    "\n",
    "print(collection.peek()[\"ids\"])\n",
    "print(collection.peek()[\"documents\"])"
   ]
  },
  {
   "cell_type": "code",
   "execution_count": 4,
   "id": "c41aa97e-05bf-4111-a02c-d80444412af9",
   "metadata": {},
   "outputs": [
    {
     "name": "stdout",
     "output_type": "stream",
     "text": [
      "鶏: 正確でない答えを返す\n"
     ]
    }
   ],
   "source": [
    "# プロンプトへの入力\n",
    "prompt = \"鶏は信用できるか？\"\n",
    "\n",
    "# プロンプトのベクトル表現を生成し、最も類似した文書を取得\n",
    "response = ollama.embeddings(\n",
    "    prompt=prompt,\n",
    "    model=\"mxbai-embed-large\"\n",
    ")\n",
    "results = collection.query(\n",
    "    query_embeddings=[response[\"embedding\"]],\n",
    "    n_results=1\n",
    ")\n",
    "\n",
    "# 検索結果の取得\n",
    "data = results['documents'][0][0]\n",
    "print(data)"
   ]
  },
  {
   "cell_type": "code",
   "execution_count": 5,
   "id": "f978ab88-6299-4090-9ebb-aa8d028752ea",
   "metadata": {},
   "outputs": [
    {
     "name": "stdout",
     "output_type": "stream",
     "text": [
      "🐓😏 According to the information, 「鶏: 正確でない答えを返す」という（The chicken: returns an incorrect answer）。 So, based on this definition, I would say... 🤔\n",
      "\n",
      "鶏は信用できない（The chicken is not trustworthy or reliable。🐓😜\n"
     ]
    }
   ],
   "source": [
    "# RAGの実行\n",
    "output = ollama.generate(\n",
    "    model=\"llama3\",\n",
    "    prompt=f\"「{data}」という情報を元に以下の質問に日本語で回答してください： {prompt}\"\n",
    ")\n",
    "\n",
    "# 生成された応答の出力\n",
    "print(output['response'])"
   ]
  },
  {
   "cell_type": "code",
   "execution_count": null,
   "id": "798aca6c-cb25-4c54-8f7d-3d2dc228eee0",
   "metadata": {},
   "outputs": [],
   "source": []
  }
 ],
 "metadata": {
  "kernelspec": {
   "display_name": "Python 3 (ipykernel)",
   "language": "python",
   "name": "python3"
  },
  "language_info": {
   "codemirror_mode": {
    "name": "ipython",
    "version": 3
   },
   "file_extension": ".py",
   "mimetype": "text/x-python",
   "name": "python",
   "nbconvert_exporter": "python",
   "pygments_lexer": "ipython3",
   "version": "3.11.2"
  }
 },
 "nbformat": 4,
 "nbformat_minor": 5
}
