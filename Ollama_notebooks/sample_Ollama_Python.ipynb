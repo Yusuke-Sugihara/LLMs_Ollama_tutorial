{
 "cells": [
  {
   "cell_type": "markdown",
   "id": "e82abc12-b38c-4edf-ae8e-2f3d9b50f579",
   "metadata": {},
   "source": [
    "# Ollama Python Library"
   ]
  },
  {
   "cell_type": "code",
   "execution_count": 1,
   "id": "cc271e83-72c9-4b34-83f5-d3c3f0b0aa8e",
   "metadata": {},
   "outputs": [],
   "source": [
    "import ollama\n",
    "import pprint\n",
    "\n",
    "import numpy as np\n",
    "import matplotlib.pyplot as plt\n",
    "import seaborn as sns\n",
    "\n",
    "%matplotlib inline\n",
    "\n",
    "sns.set_theme()"
   ]
  },
  {
   "cell_type": "markdown",
   "id": "cb3ee0fe-7332-41ac-ae9f-262961adb533",
   "metadata": {},
   "source": [
    "## Phi-3-Mini・Llama3"
   ]
  },
  {
   "cell_type": "markdown",
   "id": "dda97ee7-2d98-42e1-b580-aa500d88b995",
   "metadata": {},
   "source": [
    "### chat"
   ]
  },
  {
   "cell_type": "code",
   "execution_count": 2,
   "id": "5545ccfd-ae5a-40ea-97b8-44e6e75dd132",
   "metadata": {},
   "outputs": [
    {
     "name": "stdout",
     "output_type": "stream",
     "text": [
      " Deep Learning is a subset of machine learning using neural networks with multiple layers, enabling complex pattern recognition and decision making.\n"
     ]
    }
   ],
   "source": [
    "response = ollama.chat(model='phi3', messages=[\n",
    "  {\n",
    "    'role': 'user',\n",
    "    'content': 'What is DeepLearning? Please answer within 20-words'\n",
    "  },\n",
    "])\n",
    "\n",
    "print(response['message']['content'])"
   ]
  },
  {
   "cell_type": "code",
   "execution_count": 3,
   "id": "3fe5d533-b478-412c-a3cd-554f8ea792ad",
   "metadata": {},
   "outputs": [
    {
     "name": "stdout",
     "output_type": "stream",
     "text": [
      " A neural network is a computational system inspired by biological neurons, used to model complex patterns and make decisions based on data inputs.\n"
     ]
    }
   ],
   "source": [
    "response = ollama.chat(model='phi3', messages=[\n",
    "  {\n",
    "    'role': 'user',\n",
    "    'content': 'What is Neural Network? Please answer within 25-words'\n",
    "  },\n",
    "])\n",
    "\n",
    "print(response['message']['content'])"
   ]
  },
  {
   "cell_type": "markdown",
   "id": "36b1caaf-5f83-4d3b-8a2c-42d2af37f989",
   "metadata": {},
   "source": [
    "### list"
   ]
  },
  {
   "cell_type": "code",
   "execution_count": 4,
   "id": "014d0fd3-d12f-40cf-b277-6b76e903f112",
   "metadata": {},
   "outputs": [
    {
     "name": "stdout",
     "output_type": "stream",
     "text": [
      "mxbai-embed-large:latest\n",
      "\n",
      "{'parent_model': '',\n",
      " 'format': 'gguf',\n",
      " 'family': 'bert',\n",
      " 'families': ['bert'],\n",
      " 'parameter_size': '334M',\n",
      " 'quantization_level': 'F16'}\n"
     ]
    }
   ],
   "source": [
    "response = ollama.list()\n",
    "\n",
    "print(response[\"models\"][1][\"name\"])\n",
    "print()\n",
    "pprint.pp(response[\"models\"][1][\"details\"])"
   ]
  },
  {
   "cell_type": "markdown",
   "id": "f1479010-55ca-42c5-bece-56f82a68eb20",
   "metadata": {},
   "source": [
    "### embeddings"
   ]
  },
  {
   "cell_type": "code",
   "execution_count": 5,
   "id": "0ee884ef-83f8-46db-9765-5f894e69275f",
   "metadata": {},
   "outputs": [
    {
     "name": "stdout",
     "output_type": "stream",
     "text": [
      "3072\n",
      "[-0.5512142777442932, 1.5065734386444092, 0.7478373050689697, 1.1350247859954834, 1.7609974145889282, 0.8029263019561768, -1.0324945449829102, 0.1570369005203247, 0.9840261936187744, 0.465870201587677]\n",
      "-0.018035829757735655 0.9121263893203622\n"
     ]
    }
   ],
   "source": [
    "response = ollama.embeddings(model='phi3', prompt='The sky is blue because of rayleigh scattering')\n",
    "\n",
    "res_np = np.array(response['embedding'])\n",
    "\n",
    "print(len(response['embedding']))\n",
    "print(response['embedding'][:10])\n",
    "print(np.mean(res_np), np.sqrt(np.sum((res_np-np.mean(res_np))**2)/res_np.shape[0]))"
   ]
  },
  {
   "cell_type": "code",
   "execution_count": 6,
   "id": "629077aa-8517-4f1e-ba87-987c43753906",
   "metadata": {},
   "outputs": [
    {
     "data": {
      "image/png": "[encoded data removed]",
      "text/plain": [
       "<Figure size 640x480 with 1 Axes>"
      ]
     },
     "metadata": {},
     "output_type": "display_data"
    }
   ],
   "source": [
    "response = ollama.embeddings(model='phi3', prompt='The sky is blue because of rayleigh scattering')\n",
    "\n",
    "res_np = np.array(response['embedding'])\n",
    "\n",
    "plt.hist(res_np, bins=20)\n",
    "plt.show()"
   ]
  },
  {
   "cell_type": "code",
   "execution_count": 7,
   "id": "ffaaa9e9-1169-4812-b67d-0a23c114b5ba",
   "metadata": {},
   "outputs": [
    {
     "name": "stdout",
     "output_type": "stream",
     "text": [
      "4096\n"
     ]
    }
   ],
   "source": [
    "response = ollama.embeddings(model='llama3', prompt='The sky is blue because of rayleigh scattering')\n",
    "\n",
    "print(len(response['embedding']))"
   ]
  },
  {
   "cell_type": "code",
   "execution_count": 8,
   "id": "3ca9ad55-e944-4e08-a817-14a7f50916f2",
   "metadata": {},
   "outputs": [
    {
     "name": "stdout",
     "output_type": "stream",
     "text": [
      "1024\n"
     ]
    }
   ],
   "source": [
    "response = ollama.embeddings(model='mxbai-embed-large', prompt='The sky is blue because of rayleigh scattering')\n",
    "\n",
    "print(len(response['embedding']))"
   ]
  },
  {
   "cell_type": "markdown",
   "id": "0050779e-ef85-4f06-9400-fd42e50ec7db",
   "metadata": {},
   "source": [
    "## LLaVA"
   ]
  },
  {
   "cell_type": "code",
   "execution_count": 9,
   "id": "4593b565-48c7-4edb-844a-43bbdec5717f",
   "metadata": {},
   "outputs": [
    {
     "name": "stdout",
     "output_type": "stream",
     "text": [
      " The image features a simple, yet cute, line drawing of an alpaca. It's a solid white color with black lines to define the shape and details. The alpaca is drawn in a cartoon style, giving it a friendly and approachable look. It's looking directly at the viewer, making the image feel like a direct engagement with the viewer. The background of the image is plain and does not distract from the main subject - the adorable little alpaca. \n"
     ]
    }
   ],
   "source": [
    "res = ollama.chat(\n",
    "\tmodel=\"llava\",\n",
    "\tmessages=[\n",
    "\t\t{\n",
    "\t\t\t'role': 'user',\n",
    "\t\t\t'content': 'Describe this image:',\n",
    "\t\t\t'images': ['./ollama_logo.png']\n",
    "\t\t}\n",
    "\t]\n",
    ")\n",
    "\n",
    "print(res['message']['content'])"
   ]
  },
  {
   "cell_type": "code",
   "execution_count": null,
   "id": "01476ada-d35a-440a-b187-beb818e956cd",
   "metadata": {},
   "outputs": [],
   "source": []
  }
 ],
 "metadata": {
  "kernelspec": {
   "display_name": "Python 3 (ipykernel)",
   "language": "python",
   "name": "python3"
  },
  "language_info": {
   "codemirror_mode": {
    "name": "ipython",
    "version": 3
   },
   "file_extension": ".py",
   "mimetype": "text/x-python",
   "name": "python",
   "nbconvert_exporter": "python",
   "pygments_lexer": "ipython3",
   "version": "3.11.2"
  }
 },
 "nbformat": 4,
 "nbformat_minor": 5
}
